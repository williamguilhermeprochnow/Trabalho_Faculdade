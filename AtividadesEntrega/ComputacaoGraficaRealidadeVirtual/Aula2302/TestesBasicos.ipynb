{
 "cells": [
  {
   "cell_type": "code",
   "execution_count": 1,
   "id": "1000a81f",
   "metadata": {},
   "outputs": [],
   "source": [
    "from pyspark.sql import SparkSession, functions as F\n",
    "\n",
    "spark = SparkSession.builder.getOrCreate()"
   ]
  },
  {
   "cell_type": "code",
   "execution_count": 2,
   "id": "a76c9cfe",
   "metadata": {},
   "outputs": [
    {
     "name": "stdout",
     "output_type": "stream",
     "text": [
      "Informe o ano: 2024\n",
      "O ano de 2024 é bissexto\n"
     ]
    }
   ],
   "source": [
    "year = int(input(\"Informe o ano: \"))\n",
    "df_year = spark.sql(f\"\"\"SELECT sequence(to_date('{year}-01-01'), \n",
    "                        to_date('{year}-12-31'), interval 1 day) as data\"\"\").withColumn('data', F.explode(F.col('data')))\n",
    "\n",
    "if df_year.count() == 366:\n",
    "    print(f\"O ano de {year} é bissexto\")\n",
    "else:\n",
    "    print(f\"O ano de {year} não é bissexto\")"
   ]
  },
  {
   "cell_type": "code",
   "execution_count": 3,
   "id": "eba2a927",
   "metadata": {},
   "outputs": [
    {
     "name": "stdout",
     "output_type": "stream",
     "text": [
      "1\n",
      "2\n",
      "3\n",
      "5\n",
      "8\n",
      "13\n",
      "21\n",
      "34\n",
      "55\n",
      "89\n"
     ]
    }
   ],
   "source": [
    "n = 10\n",
    "t1 = 0\n",
    "t2 = 1\n",
    "count = 0\n",
    "\n",
    "while count < n:\n",
    "    t3 = t1 + t2\n",
    "    print(t3)\n",
    "    t1 = t2\n",
    "    t2 = t3\n",
    "    count +=1"
   ]
  },
  {
   "cell_type": "code",
   "execution_count": 4,
   "id": "7e1b88dd",
   "metadata": {},
   "outputs": [
    {
     "name": "stdout",
     "output_type": "stream",
     "text": [
      "Informe um número: 3\n",
      "3 x 0 = 0\n",
      "3 x 1 = 3\n",
      "3 x 2 = 6\n",
      "3 x 3 = 9\n",
      "3 x 4 = 12\n",
      "3 x 5 = 15\n",
      "3 x 6 = 18\n",
      "3 x 7 = 21\n",
      "3 x 8 = 24\n",
      "3 x 9 = 27\n",
      "3 x 10 = 30\n"
     ]
    }
   ],
   "source": [
    "tabuada = int(input(\"Informe um número: \"))\n",
    "\n",
    "for n in range(0, 11):\n",
    "    print(f\"{tabuada} x {n} = {tabuada * n}\")"
   ]
  },
  {
   "cell_type": "code",
   "execution_count": 5,
   "id": "44c1041c",
   "metadata": {
    "scrolled": true
   },
   "outputs": [
    {
     "name": "stdout",
     "output_type": "stream",
     "text": [
      "Informe a temperatura: 30\n",
      "Sem necessidade de usar protetor solar.\n"
     ]
    }
   ],
   "source": [
    "temperatura = int(input(\"Informe a temperatura: \"))\n",
    "if temperatura > 35:\n",
    "    print(\"Necessário usar protetor solar.\")\n",
    "else:\n",
    "    print(\"Sem necessidade de usar protetor solar.\")"
   ]
  },
  {
   "cell_type": "code",
   "execution_count": 6,
   "id": "295fb31e",
   "metadata": {},
   "outputs": [
    {
     "name": "stdout",
     "output_type": "stream",
     "text": [
      "Informe a idade: 19\n",
      "Maior de idade\n"
     ]
    }
   ],
   "source": [
    "idade = int(input(\"Informe a idade: \"))\n",
    "if idade > 18:\n",
    "    print(\"Maior de idade\")\n",
    "else:\n",
    "    print(\"Menor de idade\")"
   ]
  }
 ],
 "metadata": {
  "kernelspec": {
   "display_name": "Python 3",
   "language": "python",
   "name": "python3"
  },
  "language_info": {
   "codemirror_mode": {
    "name": "ipython",
    "version": 3
   },
   "file_extension": ".py",
   "mimetype": "text/x-python",
   "name": "python",
   "nbconvert_exporter": "python",
   "pygments_lexer": "ipython3",
   "version": "3.8.8"
  }
 },
 "nbformat": 4,
 "nbformat_minor": 5
}
